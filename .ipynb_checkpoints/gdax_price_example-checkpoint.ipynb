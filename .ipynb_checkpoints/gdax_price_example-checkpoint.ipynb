{
 "cells": [
  {
   "cell_type": "markdown",
   "metadata": {},
   "source": [
    "# use gdax-python as API to gdax data\n",
    "\n",
    "How to gather current and historical data and work with time intervals."
   ]
  },
  {
   "cell_type": "markdown",
   "metadata": {},
   "source": [
    "## resources\n",
    "\n",
    "https://github.com/danpaquin/gdax-python\n",
    "\n",
    "install from github as pypi version is lagging (?).\n",
    "\n",
    "pip install https://github.com/danpaquin/gdax-python/zipball/master"
   ]
  },
  {
   "cell_type": "markdown",
   "metadata": {},
   "source": [
    "### GDAX notes\n",
    "\n",
    "GDAX requests limit: 3 per second\n",
    "\n",
    "Timepoints: ISO 8601\n",
    "\n",
    "GDAX private and trading requires Authenticated keys\n",
    "\n",
    "https://support.gdax.com/customer/en/portal/articles/2425383-how-can-i-create-an-api-key-for-gdax-\n",
    "\n",
    "The market data does not.\n",
    "\n",
    "https://docs.gdax.com/?python#market-data"
   ]
  },
  {
   "cell_type": "markdown",
   "metadata": {},
   "source": [
    "https://docs.gdax.com/?python#get-historic-rates\n",
    "\n",
    "200 'candles' per request. open high low volume.\n",
    "\n",
    "24 hour data:\n",
    "\n",
    "GET /products/<product-id>/stats"
   ]
  },
  {
   "cell_type": "markdown",
   "metadata": {},
   "source": [
    "websocket feed. rate limit 1 per 4 seconds.\n",
    "\n",
    "wss://ws-feed.gdax.com"
   ]
  },
  {
   "cell_type": "markdown",
   "metadata": {},
   "source": [
    "## working with gdax-python api and gdax public marketplace data.\n",
    "\n",
    "### viewing products from gdax"
   ]
  },
  {
   "cell_type": "code",
   "execution_count": 1,
   "metadata": {},
   "outputs": [],
   "source": [
    "import gdax"
   ]
  },
  {
   "cell_type": "code",
   "execution_count": 2,
   "metadata": {},
   "outputs": [],
   "source": [
    "public_client = gdax.PublicClient()"
   ]
  },
  {
   "cell_type": "code",
   "execution_count": 3,
   "metadata": {},
   "outputs": [],
   "source": [
    "products = public_client.get_products()"
   ]
  },
  {
   "cell_type": "markdown",
   "metadata": {},
   "source": [
    "gdax products appear to be limited to the same coins as coinbase. \n",
    "\n",
    "They include pricing in british pound and euro.\n",
    "\n",
    "We want to know only USD products."
   ]
  },
  {
   "cell_type": "code",
   "execution_count": 4,
   "metadata": {},
   "outputs": [],
   "source": [
    "import re"
   ]
  },
  {
   "cell_type": "code",
   "execution_count": 5,
   "metadata": {},
   "outputs": [
    {
     "data": {
      "text/plain": [
       "[{'base_currency': 'BCH',\n",
       "  'base_max_size': '250',\n",
       "  'base_min_size': '0.0001',\n",
       "  'display_name': 'BCH/USD',\n",
       "  'id': 'BCH-USD',\n",
       "  'margin_enabled': False,\n",
       "  'quote_currency': 'USD',\n",
       "  'quote_increment': '0.01',\n",
       "  'status': 'online',\n",
       "  'status_message': None},\n",
       " {'base_currency': 'LTC',\n",
       "  'base_max_size': '1000000',\n",
       "  'base_min_size': '0.01',\n",
       "  'display_name': 'LTC/USD',\n",
       "  'id': 'LTC-USD',\n",
       "  'margin_enabled': False,\n",
       "  'quote_currency': 'USD',\n",
       "  'quote_increment': '0.01',\n",
       "  'status': 'online',\n",
       "  'status_message': None}]"
      ]
     },
     "metadata": {},
     "output_type": "display_data"
    }
   ],
   "source": [
    "GU = re.compile('EUR|GBP')\n",
    "products = [p for p in products if not GU.search(p['id'])]\n",
    "display(products[0:2])"
   ]
  },
  {
   "cell_type": "markdown",
   "metadata": {},
   "source": [
    "We see that there are both Coin-USD and Coin-Coin producst with some info on (probably) minimum and maximum allowable order size?\n",
    "\n",
    "Products are one way.\n",
    "\n",
    "There is BCH-USD, but not USD-BCH."
   ]
  },
  {
   "cell_type": "markdown",
   "metadata": {},
   "source": [
    "### Get current ticker containing ask and bid."
   ]
  },
  {
   "cell_type": "code",
   "execution_count": 6,
   "metadata": {},
   "outputs": [
    {
     "data": {
      "text/plain": [
       "{'ask': '717.05',\n",
       " 'bid': '715.78',\n",
       " 'price': '717.01000000',\n",
       " 'size': '0.73509560',\n",
       " 'time': '2017-12-23T08:42:58.736000Z',\n",
       " 'trade_id': 23139393,\n",
       " 'volume': '598265.18083134'}"
      ]
     },
     "execution_count": 6,
     "metadata": {},
     "output_type": "execute_result"
    }
   ],
   "source": [
    "public_client.get_product_ticker(product_id='ETH-USD')"
   ]
  },
  {
   "cell_type": "markdown",
   "metadata": {},
   "source": [
    "**TODO: understand the order side.**\n",
    "\n",
    "https://docs.gdax.com/#get-product-ticker\n",
    "\n",
    "    SIDE\n",
    "\n",
    "    The trade side indicates the maker order side. The maker order is the order that was open on the order book. buy side indicates a down-tick because the maker was a buy order and their order was removed. Conversely, sell side indicates an up-tick.\n"
   ]
  },
  {
   "cell_type": "code",
   "execution_count": 7,
   "metadata": {},
   "outputs": [
    {
     "data": {
      "text/plain": [
       "[{'price': '717.01000000',\n",
       "  'side': 'sell',\n",
       "  'size': '0.73509560',\n",
       "  'time': '2017-12-23T08:42:58.736Z',\n",
       "  'trade_id': 23139393},\n",
       " {'price': '717.01000000',\n",
       "  'side': 'sell',\n",
       "  'size': '0.26000000',\n",
       "  'time': '2017-12-23T08:42:58.736Z',\n",
       "  'trade_id': 23139392},\n",
       " {'price': '717.01000000',\n",
       "  'side': 'sell',\n",
       "  'size': '0.18000000',\n",
       "  'time': '2017-12-23T08:42:58.736Z',\n",
       "  'trade_id': 23139391},\n",
       " {'price': '717.01000000',\n",
       "  'side': 'sell',\n",
       "  'size': '0.13235554',\n",
       "  'time': '2017-12-23T08:42:58.736Z',\n",
       "  'trade_id': 23139390},\n",
       " {'price': '717.01000000',\n",
       "  'side': 'sell',\n",
       "  'size': '0.06617777',\n",
       "  'time': '2017-12-23T08:42:58.736Z',\n",
       "  'trade_id': 23139389},\n",
       " {'price': '717.01000000',\n",
       "  'side': 'sell',\n",
       "  'size': '12.30581275',\n",
       "  'time': '2017-12-23T08:42:58.736Z',\n",
       "  'trade_id': 23139388},\n",
       " {'price': '716.73000000',\n",
       "  'side': 'sell',\n",
       "  'size': '7.18100000',\n",
       "  'time': '2017-12-23T08:42:58.736Z',\n",
       "  'trade_id': 23139387},\n",
       " {'price': '715.72000000',\n",
       "  'side': 'buy',\n",
       "  'size': '1.00000000',\n",
       "  'time': '2017-12-23T08:42:58.636Z',\n",
       "  'trade_id': 23139386},\n",
       " {'price': '716.73000000',\n",
       "  'side': 'sell',\n",
       "  'size': '5.81900000',\n",
       "  'time': '2017-12-23T08:42:58.166Z',\n",
       "  'trade_id': 23139385},\n",
       " {'price': '715.19000000',\n",
       "  'side': 'buy',\n",
       "  'size': '0.01371808',\n",
       "  'time': '2017-12-23T08:42:52.677Z',\n",
       "  'trade_id': 23139384},\n",
       " {'price': '715.16000000',\n",
       "  'side': 'buy',\n",
       "  'size': '1.42200924',\n",
       "  'time': '2017-12-23T08:42:47.846Z',\n",
       "  'trade_id': 23139383},\n",
       " {'price': '716.00000000',\n",
       "  'side': 'buy',\n",
       "  'size': '1.00000000',\n",
       "  'time': '2017-12-23T08:42:47.846Z',\n",
       "  'trade_id': 23139382},\n",
       " {'price': '716.71000000',\n",
       "  'side': 'buy',\n",
       "  'size': '0.07382117',\n",
       "  'time': '2017-12-23T08:42:47.846Z',\n",
       "  'trade_id': 23139381},\n",
       " {'price': '716.71000000',\n",
       "  'side': 'buy',\n",
       "  'size': '0.07382117',\n",
       "  'time': '2017-12-23T08:42:47.846Z',\n",
       "  'trade_id': 23139380},\n",
       " {'price': '717.00000000',\n",
       "  'side': 'buy',\n",
       "  'size': '1.11669000',\n",
       "  'time': '2017-12-23T08:42:47.846Z',\n",
       "  'trade_id': 23139379},\n",
       " {'price': '717.01000000',\n",
       "  'side': 'sell',\n",
       "  'size': '2.69418725',\n",
       "  'time': '2017-12-23T08:42:35.299Z',\n",
       "  'trade_id': 23139378},\n",
       " {'price': '717.01000000',\n",
       "  'side': 'sell',\n",
       "  'size': '0.03308889',\n",
       "  'time': '2017-12-23T08:42:35.299Z',\n",
       "  'trade_id': 23139377},\n",
       " {'price': '717.01000000',\n",
       "  'side': 'sell',\n",
       "  'size': '0.01654444',\n",
       "  'time': '2017-12-23T08:42:35.299Z',\n",
       "  'trade_id': 23139376},\n",
       " {'price': '717.01000000',\n",
       "  'side': 'sell',\n",
       "  'size': '0.00827222',\n",
       "  'time': '2017-12-23T08:42:35.299Z',\n",
       "  'trade_id': 23139375},\n",
       " {'price': '717.00000000',\n",
       "  'side': 'sell',\n",
       "  'size': '1.00000000',\n",
       "  'time': '2017-12-23T08:42:35.299Z',\n",
       "  'trade_id': 23139374},\n",
       " {'price': '716.91000000',\n",
       "  'side': 'sell',\n",
       "  'size': '0.90000000',\n",
       "  'time': '2017-12-23T08:42:35.299Z',\n",
       "  'trade_id': 23139373},\n",
       " {'price': '716.89000000',\n",
       "  'side': 'sell',\n",
       "  'size': '15.00000000',\n",
       "  'time': '2017-12-23T08:42:35.299Z',\n",
       "  'trade_id': 23139372},\n",
       " {'price': '716.73000000',\n",
       "  'side': 'sell',\n",
       "  'size': '0.18331765',\n",
       "  'time': '2017-12-23T08:42:35.299Z',\n",
       "  'trade_id': 23139371},\n",
       " {'price': '716.73000000',\n",
       "  'side': 'sell',\n",
       "  'size': '0.30500000',\n",
       "  'time': '2017-12-23T08:42:35.299Z',\n",
       "  'trade_id': 23139370},\n",
       " {'price': '716.73000000',\n",
       "  'side': 'sell',\n",
       "  'size': '1.94268955',\n",
       "  'time': '2017-12-23T08:42:35.299Z',\n",
       "  'trade_id': 23139369},\n",
       " {'price': '716.73000000',\n",
       "  'side': 'sell',\n",
       "  'size': '0.00535766',\n",
       "  'time': '2017-12-23T08:42:25.816Z',\n",
       "  'trade_id': 23139368},\n",
       " {'price': '716.73000000',\n",
       "  'side': 'sell',\n",
       "  'size': '0.00208657',\n",
       "  'time': '2017-12-23T08:42:23.816Z',\n",
       "  'trade_id': 23139367},\n",
       " {'price': '716.73000000',\n",
       "  'side': 'sell',\n",
       "  'size': '10.44986622',\n",
       "  'time': '2017-12-23T08:42:14.409Z',\n",
       "  'trade_id': 23139366},\n",
       " {'price': '716.00000000',\n",
       "  'side': 'sell',\n",
       "  'size': '0.45000000',\n",
       "  'time': '2017-12-23T08:42:14.409Z',\n",
       "  'trade_id': 23139365},\n",
       " {'price': '716.00000000',\n",
       "  'side': 'sell',\n",
       "  'size': '0.17000000',\n",
       "  'time': '2017-12-23T08:42:14.409Z',\n",
       "  'trade_id': 23139364},\n",
       " {'price': '716.00000000',\n",
       "  'side': 'sell',\n",
       "  'size': '0.19626549',\n",
       "  'time': '2017-12-23T08:42:14.409Z',\n",
       "  'trade_id': 23139363},\n",
       " {'price': '716.00000000',\n",
       "  'side': 'sell',\n",
       "  'size': '1.00000000',\n",
       "  'time': '2017-12-23T08:42:14.409Z',\n",
       "  'trade_id': 23139362},\n",
       " {'price': '716.00000000',\n",
       "  'side': 'sell',\n",
       "  'size': '2.07246829',\n",
       "  'time': '2017-12-23T08:42:14.409Z',\n",
       "  'trade_id': 23139361},\n",
       " {'price': '716.00000000',\n",
       "  'side': 'sell',\n",
       "  'size': '0.00153171',\n",
       "  'time': '2017-12-23T08:42:03.831Z',\n",
       "  'trade_id': 23139360},\n",
       " {'price': '715.99000000',\n",
       "  'side': 'buy',\n",
       "  'size': '0.30526391',\n",
       "  'time': '2017-12-23T08:41:57.801Z',\n",
       "  'trade_id': 23139359},\n",
       " {'price': '715.99000000',\n",
       "  'side': 'buy',\n",
       "  'size': '0.01163609',\n",
       "  'time': '2017-12-23T08:41:57.801Z',\n",
       "  'trade_id': 23139358},\n",
       " {'price': '716.90000000',\n",
       "  'side': 'sell',\n",
       "  'size': '0.00208608',\n",
       "  'time': '2017-12-23T08:41:39.713Z',\n",
       "  'trade_id': 23139357},\n",
       " {'price': '716.00000000',\n",
       "  'side': 'sell',\n",
       "  'size': '19.08000000',\n",
       "  'time': '2017-12-23T08:41:34.54Z',\n",
       "  'trade_id': 23139356},\n",
       " {'price': '716.00000000',\n",
       "  'side': 'sell',\n",
       "  'size': '0.15000000',\n",
       "  'time': '2017-12-23T08:41:34.54Z',\n",
       "  'trade_id': 23139355},\n",
       " {'price': '715.99000000',\n",
       "  'side': 'buy',\n",
       "  'size': '0.10752142',\n",
       "  'time': '2017-12-23T08:41:29.994Z',\n",
       "  'trade_id': 23139354},\n",
       " {'price': '715.01000000',\n",
       "  'side': 'sell',\n",
       "  'size': '5.18130000',\n",
       "  'time': '2017-12-23T08:41:17.081Z',\n",
       "  'trade_id': 23139353},\n",
       " {'price': '715.01000000',\n",
       "  'side': 'sell',\n",
       "  'size': '0.07210000',\n",
       "  'time': '2017-12-23T08:41:17.081Z',\n",
       "  'trade_id': 23139352},\n",
       " {'price': '715.01000000',\n",
       "  'side': 'sell',\n",
       "  'size': '14.09070000',\n",
       "  'time': '2017-12-23T08:41:17.081Z',\n",
       "  'trade_id': 23139351},\n",
       " {'price': '715.00000000',\n",
       "  'side': 'buy',\n",
       "  'size': '1.35491761',\n",
       "  'time': '2017-12-23T08:41:09.439Z',\n",
       "  'trade_id': 23139350},\n",
       " {'price': '715.00000000',\n",
       "  'side': 'buy',\n",
       "  'size': '0.18659710',\n",
       "  'time': '2017-12-23T08:41:05.22Z',\n",
       "  'trade_id': 23139349},\n",
       " {'price': '715.01000000',\n",
       "  'side': 'sell',\n",
       "  'size': '17.43689714',\n",
       "  'time': '2017-12-23T08:41:00.744Z',\n",
       "  'trade_id': 23139348},\n",
       " {'price': '715.01000000',\n",
       "  'side': 'sell',\n",
       "  'size': '2.89880286',\n",
       "  'time': '2017-12-23T08:41:00.744Z',\n",
       "  'trade_id': 23139347},\n",
       " {'price': '715.00000000',\n",
       "  'side': 'buy',\n",
       "  'size': '0.70000000',\n",
       "  'time': '2017-12-23T08:40:59.652Z',\n",
       "  'trade_id': 23139346},\n",
       " {'price': '715.01000000',\n",
       "  'side': 'sell',\n",
       "  'size': '0.00209159',\n",
       "  'time': '2017-12-23T08:40:56.17Z',\n",
       "  'trade_id': 23139345},\n",
       " {'price': '715.00000000',\n",
       "  'side': 'buy',\n",
       "  'size': '1.23174764',\n",
       "  'time': '2017-12-23T08:40:53.568Z',\n",
       "  'trade_id': 23139344},\n",
       " {'price': '715.01000000',\n",
       "  'side': 'buy',\n",
       "  'size': '0.01000000',\n",
       "  'time': '2017-12-23T08:40:53.568Z',\n",
       "  'trade_id': 23139343},\n",
       " {'price': '715.01000000',\n",
       "  'side': 'buy',\n",
       "  'size': '0.01000000',\n",
       "  'time': '2017-12-23T08:40:53.568Z',\n",
       "  'trade_id': 23139342},\n",
       " {'price': '715.01000000',\n",
       "  'side': 'buy',\n",
       "  'size': '0.01000000',\n",
       "  'time': '2017-12-23T08:40:53.568Z',\n",
       "  'trade_id': 23139341},\n",
       " {'price': '715.18000000',\n",
       "  'side': 'buy',\n",
       "  'size': '0.02500000',\n",
       "  'time': '2017-12-23T08:40:53.568Z',\n",
       "  'trade_id': 23139340},\n",
       " {'price': '715.40000000',\n",
       "  'side': 'buy',\n",
       "  'size': '0.00628881',\n",
       "  'time': '2017-12-23T08:40:53.568Z',\n",
       "  'trade_id': 23139339},\n",
       " {'price': '716.00000000',\n",
       "  'side': 'buy',\n",
       "  'size': '0.00100000',\n",
       "  'time': '2017-12-23T08:40:53.568Z',\n",
       "  'trade_id': 23139338},\n",
       " {'price': '716.05000000',\n",
       "  'side': 'buy',\n",
       "  'size': '0.00100000',\n",
       "  'time': '2017-12-23T08:40:53.568Z',\n",
       "  'trade_id': 23139337},\n",
       " {'price': '716.50000000',\n",
       "  'side': 'buy',\n",
       "  'size': '0.06027057',\n",
       "  'time': '2017-12-23T08:40:53.568Z',\n",
       "  'trade_id': 23139336},\n",
       " {'price': '716.50000000',\n",
       "  'side': 'buy',\n",
       "  'size': '1.23476289',\n",
       "  'time': '2017-12-23T08:40:53.361Z',\n",
       "  'trade_id': 23139335},\n",
       " {'price': '716.50000000',\n",
       "  'side': 'buy',\n",
       "  'size': '0.70496654',\n",
       "  'time': '2017-12-23T08:40:53.164Z',\n",
       "  'trade_id': 23139334},\n",
       " {'price': '717.00000000',\n",
       "  'side': 'buy',\n",
       "  'size': '0.01000000',\n",
       "  'time': '2017-12-23T08:40:53.164Z',\n",
       "  'trade_id': 23139333},\n",
       " {'price': '717.00000000',\n",
       "  'side': 'buy',\n",
       "  'size': '0.00140000',\n",
       "  'time': '2017-12-23T08:40:53.164Z',\n",
       "  'trade_id': 23139332},\n",
       " {'price': '717.00000000',\n",
       "  'side': 'buy',\n",
       "  'size': '0.03028946',\n",
       "  'time': '2017-12-23T08:40:53.164Z',\n",
       "  'trade_id': 23139331},\n",
       " {'price': '717.00000000',\n",
       "  'side': 'buy',\n",
       "  'size': '3.78080792',\n",
       "  'time': '2017-12-23T08:40:53.164Z',\n",
       "  'trade_id': 23139330},\n",
       " {'price': '717.00000000',\n",
       "  'side': 'buy',\n",
       "  'size': '0.00785941',\n",
       "  'time': '2017-12-23T08:40:48.936Z',\n",
       "  'trade_id': 23139329},\n",
       " {'price': '717.00000000',\n",
       "  'side': 'buy',\n",
       "  'size': '1.01429585',\n",
       "  'time': '2017-12-23T08:40:48.149Z',\n",
       "  'trade_id': 23139328},\n",
       " {'price': '717.01000000',\n",
       "  'side': 'sell',\n",
       "  'size': '6.18132036',\n",
       "  'time': '2017-12-23T08:40:45.153Z',\n",
       "  'trade_id': 23139327},\n",
       " {'price': '717.01000000',\n",
       "  'side': 'sell',\n",
       "  'size': '2.52637964',\n",
       "  'time': '2017-12-23T08:40:45.153Z',\n",
       "  'trade_id': 23139326},\n",
       " {'price': '717.00000000',\n",
       "  'side': 'buy',\n",
       "  'size': '0.19703682',\n",
       "  'time': '2017-12-23T08:40:41.578Z',\n",
       "  'trade_id': 23139325},\n",
       " {'price': '717.00000000',\n",
       "  'side': 'buy',\n",
       "  'size': '1.80296318',\n",
       "  'time': '2017-12-23T08:40:41.578Z',\n",
       "  'trade_id': 23139324},\n",
       " {'price': '717.00000000',\n",
       "  'side': 'buy',\n",
       "  'size': '0.24000000',\n",
       "  'time': '2017-12-23T08:40:40.815Z',\n",
       "  'trade_id': 23139323},\n",
       " {'price': '717.00000000',\n",
       "  'side': 'buy',\n",
       "  'size': '5.14484536',\n",
       "  'time': '2017-12-23T08:40:40.344Z',\n",
       "  'trade_id': 23139322},\n",
       " {'price': '717.00000000',\n",
       "  'side': 'buy',\n",
       "  'size': '10.87728535',\n",
       "  'time': '2017-12-23T08:40:29.214Z',\n",
       "  'trade_id': 23139321},\n",
       " {'price': '717.01000000',\n",
       "  'side': 'sell',\n",
       "  'size': '5.45590984',\n",
       "  'time': '2017-12-23T08:40:29.187Z',\n",
       "  'trade_id': 23139320},\n",
       " {'price': '717.01000000',\n",
       "  'side': 'sell',\n",
       "  'size': '0.20800000',\n",
       "  'time': '2017-12-23T08:40:29.187Z',\n",
       "  'trade_id': 23139319},\n",
       " {'price': '717.01000000',\n",
       "  'side': 'sell',\n",
       "  'size': '0.10000000',\n",
       "  'time': '2017-12-23T08:40:29.187Z',\n",
       "  'trade_id': 23139318},\n",
       " {'price': '717.01000000',\n",
       "  'side': 'sell',\n",
       "  'size': '18.38249016',\n",
       "  'time': '2017-12-23T08:40:29.187Z',\n",
       "  'trade_id': 23139317},\n",
       " {'price': '717.00000000',\n",
       "  'side': 'buy',\n",
       "  'size': '0.82317526',\n",
       "  'time': '2017-12-23T08:40:23.624Z',\n",
       "  'trade_id': 23139316},\n",
       " {'price': '717.00000000',\n",
       "  'side': 'buy',\n",
       "  'size': '4.94007012',\n",
       "  'time': '2017-12-23T08:40:21.406Z',\n",
       "  'trade_id': 23139315},\n",
       " {'price': '717.00000000',\n",
       "  'side': 'buy',\n",
       "  'size': '1.20363018',\n",
       "  'time': '2017-12-23T08:40:19.335Z',\n",
       "  'trade_id': 23139314},\n",
       " {'price': '717.00000000',\n",
       "  'side': 'buy',\n",
       "  'size': '5.14590637',\n",
       "  'time': '2017-12-23T08:40:19.186Z',\n",
       "  'trade_id': 23139313},\n",
       " {'price': '717.00000000',\n",
       "  'side': 'buy',\n",
       "  'size': '5.14590637',\n",
       "  'time': '2017-12-23T08:40:17.937Z',\n",
       "  'trade_id': 23139312},\n",
       " {'price': '717.01000000',\n",
       "  'side': 'sell',\n",
       "  'size': '0.00208576',\n",
       "  'time': '2017-12-23T08:40:12.623Z',\n",
       "  'trade_id': 23139311},\n",
       " {'price': '717.01000000',\n",
       "  'side': 'sell',\n",
       "  'size': '3.63840626',\n",
       "  'time': '2017-12-23T08:40:11.811Z',\n",
       "  'trade_id': 23139310},\n",
       " {'price': '717.01000000',\n",
       "  'side': 'sell',\n",
       "  'size': '2.92470000',\n",
       "  'time': '2017-12-23T08:40:10.555Z',\n",
       "  'trade_id': 23139309},\n",
       " {'price': '717.01000000',\n",
       "  'side': 'sell',\n",
       "  'size': '0.00278101',\n",
       "  'time': '2017-12-23T08:39:50.32Z',\n",
       "  'trade_id': 23139308},\n",
       " {'price': '717.00000000',\n",
       "  'side': 'buy',\n",
       "  'size': '5.57621781',\n",
       "  'time': '2017-12-23T08:39:46.776Z',\n",
       "  'trade_id': 23139307},\n",
       " {'price': '717.00000000',\n",
       "  'side': 'buy',\n",
       "  'size': '1.44218219',\n",
       "  'time': '2017-12-23T08:39:46.776Z',\n",
       "  'trade_id': 23139306},\n",
       " {'price': '717.01000000',\n",
       "  'side': 'sell',\n",
       "  'size': '0.06952545',\n",
       "  'time': '2017-12-23T08:39:38.93Z',\n",
       "  'trade_id': 23139305},\n",
       " {'price': '717.01000000',\n",
       "  'side': 'sell',\n",
       "  'size': '7.30860000',\n",
       "  'time': '2017-12-23T08:39:31.242Z',\n",
       "  'trade_id': 23139304},\n",
       " {'price': '717.01000000',\n",
       "  'side': 'sell',\n",
       "  'size': '0.00208576',\n",
       "  'time': '2017-12-23T08:39:28.811Z',\n",
       "  'trade_id': 23139303},\n",
       " {'price': '717.00000000',\n",
       "  'side': 'buy',\n",
       "  'size': '0.50000000',\n",
       "  'time': '2017-12-23T08:39:21.944Z',\n",
       "  'trade_id': 23139302},\n",
       " {'price': '717.00000000',\n",
       "  'side': 'buy',\n",
       "  'size': '1.49017481',\n",
       "  'time': '2017-12-23T08:39:13.746Z',\n",
       "  'trade_id': 23139301},\n",
       " {'price': '717.00000000',\n",
       "  'side': 'buy',\n",
       "  'size': '0.34880000',\n",
       "  'time': '2017-12-23T08:39:13.746Z',\n",
       "  'trade_id': 23139300},\n",
       " {'price': '717.00000000',\n",
       "  'side': 'buy',\n",
       "  'size': '0.06102519',\n",
       "  'time': '2017-12-23T08:39:13.746Z',\n",
       "  'trade_id': 23139299},\n",
       " {'price': '717.01000000',\n",
       "  'side': 'sell',\n",
       "  'size': '0.07391794',\n",
       "  'time': '2017-12-23T08:39:13.484Z',\n",
       "  'trade_id': 23139298},\n",
       " {'price': '717.01000000',\n",
       "  'side': 'sell',\n",
       "  'size': '0.07391794',\n",
       "  'time': '2017-12-23T08:39:10.615Z',\n",
       "  'trade_id': 23139297},\n",
       " {'price': '717.01000000',\n",
       "  'side': 'sell',\n",
       "  'size': '7.29270000',\n",
       "  'time': '2017-12-23T08:39:09.872Z',\n",
       "  'trade_id': 23139296},\n",
       " {'price': '717.01000000',\n",
       "  'side': 'sell',\n",
       "  'size': '0.07391794',\n",
       "  'time': '2017-12-23T08:39:07.679Z',\n",
       "  'trade_id': 23139295},\n",
       " {'price': '717.01000000',\n",
       "  'side': 'sell',\n",
       "  'size': '0.07391794',\n",
       "  'time': '2017-12-23T08:39:05.426Z',\n",
       "  'trade_id': 23139294}]"
      ]
     },
     "execution_count": 7,
     "metadata": {},
     "output_type": "execute_result"
    }
   ],
   "source": [
    "public_client.get_product_trades(product_id='ETH-USD')"
   ]
  },
  {
   "cell_type": "markdown",
   "metadata": {},
   "source": [
    "The ticker.\n",
    "\n",
    "    {'ask': '717.05',\n",
    "     'bid': '715.78',\n",
    "     'price': '717.01000000',\n",
    "     'size': '0.73509560',\n",
    "     'time': '2017-12-23T08:42:58.736000Z',\n",
    "     'trade_id': 23139393,\n",
    "     'volume': '598265.18083134'}"
   ]
  },
  {
   "cell_type": "markdown",
   "metadata": {},
   "source": [
    "Resulted in a trade in the 'recent history' soon afterwards.\n",
    "\n",
    "     {'price': '717.01000000',\n",
    "      'side': 'sell',\n",
    "      'size': '0.73509560',\n",
    "      'time': '2017-12-23T08:42:58.736Z',\n",
    "      'trade_id': 23139393},"
   ]
  },
  {
   "cell_type": "markdown",
   "metadata": {},
   "source": [
    "TODO: confirm this interpretation.\n",
    "\n",
    "Someone wanted to buy it at 715.78, someone wanted to sell it at 717.05. The price of the trade was 717.01. So it was a sell at 717.01. The order maker bought at 717.01 allowing someone to sell at 717.01."
   ]
  },
  {
   "cell_type": "markdown",
   "metadata": {},
   "source": [
    "### get historic data and understand granularity and converting timestamps.\n",
    "\n",
    "Note the bucket size may be different on each call.\n",
    "\n",
    "https://docs.gdax.com/#get-historic-rates\n",
    "    \n",
    "Each bucket is an array of the following information:\n",
    "\n",
    "- time : bucket start time (note bucket goes to next time\n",
    "- low : lowest price during the bucket interval\n",
    "- high : highest price during the bucket interval\n",
    "- open : opening price (first trade) in the bucket interval\n",
    "- close : closing price (last trade) in the bucket interval\n",
    "- volume : volume of trading activity during the bucket interval"
   ]
  },
  {
   "cell_type": "code",
   "execution_count": 8,
   "metadata": {},
   "outputs": [],
   "source": [
    "eth_usd_hist = public_client.get_product_historic_rates('ETH-USD')"
   ]
  },
  {
   "cell_type": "code",
   "execution_count": 9,
   "metadata": {},
   "outputs": [
    {
     "data": {
      "text/plain": [
       "401"
      ]
     },
     "execution_count": 9,
     "metadata": {},
     "output_type": "execute_result"
    }
   ],
   "source": [
    "len(eth_usd_hist)"
   ]
  },
  {
   "cell_type": "code",
   "execution_count": 10,
   "metadata": {},
   "outputs": [
    {
     "data": {
      "text/plain": [
       "[[1514018520, 716, 716, 716, 716, 0.00153171],\n",
       " [1514018460, 715, 716.9, 715.01, 715.99, 43.654583259999995],\n",
       " [1514018400, 715, 717.01, 717.01, 715, 38.11531512]]"
      ]
     },
     "execution_count": 10,
     "metadata": {},
     "output_type": "execute_result"
    }
   ],
   "source": [
    "eth_usd_hist[0:3]"
   ]
  },
  {
   "cell_type": "code",
   "execution_count": 11,
   "metadata": {},
   "outputs": [
    {
     "data": {
      "text/plain": [
       "<bound method PublicClient.get_product_historic_rates of <gdax.public_client.PublicClient object at 0x108a53390>>"
      ]
     },
     "execution_count": 11,
     "metadata": {},
     "output_type": "execute_result"
    }
   ],
   "source": [
    "public_client.get_product_historic_rates"
   ]
  },
  {
   "cell_type": "code",
   "execution_count": 12,
   "metadata": {},
   "outputs": [],
   "source": [
    "import datetime"
   ]
  },
  {
   "cell_type": "code",
   "execution_count": 13,
   "metadata": {},
   "outputs": [
    {
     "data": {
      "text/plain": [
       "datetime.datetime(2017, 12, 21, 1, 6)"
      ]
     },
     "execution_count": 13,
     "metadata": {},
     "output_type": "execute_result"
    }
   ],
   "source": [
    "t = datetime.datetime.fromtimestamp(int(\"1513847160\"))\n",
    "t"
   ]
  },
  {
   "cell_type": "markdown",
   "metadata": {},
   "source": [
    "These are one minute time intervals:\n",
    "\n",
    "    1513847100 : 2017-12-21 1:05\n",
    "    1513847220 : 2017-12-21 1:07"
   ]
  },
  {
   "cell_type": "code",
   "execution_count": 14,
   "metadata": {},
   "outputs": [
    {
     "data": {
      "text/plain": [
       "datetime.time(1, 6)"
      ]
     },
     "execution_count": 14,
     "metadata": {},
     "output_type": "execute_result"
    }
   ],
   "source": [
    "t.date()\n",
    "t.time()"
   ]
  },
  {
   "cell_type": "code",
   "execution_count": 15,
   "metadata": {},
   "outputs": [
    {
     "data": {
      "text/plain": [
       "'2017-12-22T18:02:00'"
      ]
     },
     "execution_count": 15,
     "metadata": {},
     "output_type": "execute_result"
    }
   ],
   "source": [
    "datetime.datetime.fromtimestamp(eth_usd_hist[-1][0]).isoformat()"
   ]
  },
  {
   "cell_type": "code",
   "execution_count": 16,
   "metadata": {},
   "outputs": [
    {
     "data": {
      "text/plain": [
       "'2017-12-23T00:42:00'"
      ]
     },
     "execution_count": 16,
     "metadata": {},
     "output_type": "execute_result"
    }
   ],
   "source": [
    "datetime.datetime.fromtimestamp(eth_usd_hist[0][0]).isoformat()"
   ]
  },
  {
   "cell_type": "markdown",
   "metadata": {},
   "source": [
    "This history spans from 10:10 pm yesterday to 1:30 am today. Approx. 5 hours."
   ]
  },
  {
   "cell_type": "markdown",
   "metadata": {},
   "source": [
    "**To get particular time every X minutes, use a combination of start stop and granularity.**\n",
    "\n",
    "granularity is bucket size in seconds.\n",
    "\n",
    "No more than 200 intervals are accepted."
   ]
  },
  {
   "cell_type": "code",
   "execution_count": 17,
   "metadata": {},
   "outputs": [],
   "source": [
    "# 12-18 from 0 to 24 in 1 hour (3600 second) chunks.\n",
    "\n",
    "# PST\n",
    "start = '2017-12-13T08:00:00-8:00'\n",
    "end = '2017-12-17T02:00:00-08:00'\n",
    "granularity = 86400 # seconds per bucket, i.e. 1 hour intervals\n",
    "#btc_usd_hist = public_client.get_product_historic_rates('BTC-USD', end=end, granularity=granularity)\n",
    "btc_usd_hist = public_client.get_product_historic_rates('BTC-USD', end=end, granularity=86400)"
   ]
  },
  {
   "cell_type": "markdown",
   "metadata": {},
   "source": [
    "This is seeming kind of messed up for doing anything specific.\n",
    "\n",
    "Getting different return ranges, some of which look messed up, depending on whether I include end and start or granularity.\n",
    "\n",
    "The gdax-python issues on github says those problems were on the side of the gdax server."
   ]
  },
  {
   "cell_type": "code",
   "execution_count": 22,
   "metadata": {},
   "outputs": [
    {
     "name": "stdout",
     "output_type": "stream",
     "text": [
      "401\n",
      "2017-12-22T16:00:00\n",
      "2017-12-21T16:00:00\n",
      "2017-12-20T16:00:00\n",
      "2017-12-19T16:00:00\n",
      "2017-12-18T16:00:00\n",
      "2017-12-17T16:00:00\n",
      "2017-12-16T16:00:00\n",
      "2017-12-15T16:00:00\n",
      "2017-12-14T16:00:00\n",
      "2017-12-13T16:00:00\n",
      "2017-12-12T16:00:00\n",
      "2017-12-11T16:00:00\n",
      "2017-12-10T16:00:00\n",
      "2017-12-09T16:00:00\n",
      "2017-12-08T16:00:00\n",
      "2017-12-07T16:00:00\n",
      "2017-12-06T16:00:00\n",
      "2017-12-05T16:00:00\n",
      "2017-12-04T16:00:00\n",
      "2017-12-03T16:00:00\n",
      "2017-12-02T16:00:00\n",
      "2017-12-01T16:00:00\n",
      "2017-11-30T16:00:00\n",
      "2017-11-29T16:00:00\n",
      "2017-11-28T16:00:00\n",
      "2017-11-27T16:00:00\n",
      "2017-11-26T16:00:00\n",
      "2017-11-25T16:00:00\n",
      "2017-11-24T16:00:00\n",
      "2017-11-23T16:00:00\n"
     ]
    }
   ],
   "source": [
    "print(len(btc_usd_hist))\n",
    "for h in btc_usd_hist[0:30]:\n",
    "    print(datetime.datetime.fromtimestamp(h[0]).isoformat())"
   ]
  },
  {
   "cell_type": "code",
   "execution_count": 23,
   "metadata": {},
   "outputs": [
    {
     "name": "stdout",
     "output_type": "stream",
     "text": [
      "[1513987200, 14139.79, 14752.1, 14229.47, 14403.59, 732.2535642599986]\n",
      "[1513900800, 10400, 15974.94, 15758.8, 14210.57, 14756.9803593412]\n",
      "[1513814400, 15158.11, 17364.57, 16496.9, 15758.8, 6135.879130170523]\n",
      "[1513728000, 14059.48, 17889.99, 17838.73, 16496.9, 8374.593898401492]\n",
      "[1513641600, 16800, 19097, 19039.01, 17838.73, 7733.2304688507365]\n"
     ]
    }
   ],
   "source": [
    "for h in btc_usd_hist[0:5]:\n",
    "    print(h)"
   ]
  },
  {
   "cell_type": "markdown",
   "metadata": {},
   "source": [
    "### get historic data: daily stat\n",
    "Probably the last 24 hours through 'now'.\n",
    "\n",
    "No option to select other days."
   ]
  },
  {
   "cell_type": "code",
   "execution_count": 24,
   "metadata": {},
   "outputs": [
    {
     "data": {
      "text/plain": [
       "{'high': '739.00000000',\n",
       " 'last': '716.84000000',\n",
       " 'low': '460.00000000',\n",
       " 'open': '652.98000000',\n",
       " 'volume': '596831.94764561',\n",
       " 'volume_30day': '10348448.22590775'}"
      ]
     },
     "execution_count": 24,
     "metadata": {},
     "output_type": "execute_result"
    }
   ],
   "source": [
    "public_client.get_product_24hr_stats('ETH-USD')"
   ]
  }
 ],
 "metadata": {
  "anaconda-cloud": {},
  "kernelspec": {
   "display_name": "Python [Root]",
   "language": "python",
   "name": "Python [Root]"
  },
  "language_info": {
   "codemirror_mode": {
    "name": "ipython",
    "version": 3
   },
   "file_extension": ".py",
   "mimetype": "text/x-python",
   "name": "python",
   "nbconvert_exporter": "python",
   "pygments_lexer": "ipython3",
   "version": "3.5.3"
  },
  "toc": {
   "toc_cell": false,
   "toc_number_sections": true,
   "toc_threshold": 6,
   "toc_window_display": false
  }
 },
 "nbformat": 4,
 "nbformat_minor": 2
}
