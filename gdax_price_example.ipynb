{
 "cells": [
  {
   "cell_type": "markdown",
   "metadata": {},
   "source": [
    "# use gdax-python as API to gdax data\n",
    "\n",
    "How to gather current and historical data and work with time intervals."
   ]
  },
  {
   "cell_type": "markdown",
   "metadata": {},
   "source": [
    "## resources\n",
    "\n",
    "https://github.com/danpaquin/gdax-python\n",
    "\n",
    "install from github as pypi version is lagging (?).\n",
    "\n",
    "pip install https://github.com/danpaquin/gdax-python/zipball/master"
   ]
  },
  {
   "cell_type": "markdown",
   "metadata": {},
   "source": [
    "### GDAX notes\n",
    "\n",
    "GDAX requests limit: 3 per second\n",
    "\n",
    "Timepoints: ISO 8601\n",
    "\n",
    "GDAX private and trading requires Authenticated keys\n",
    "\n",
    "https://support.gdax.com/customer/en/portal/articles/2425383-how-can-i-create-an-api-key-for-gdax-\n",
    "\n",
    "The market data does not.\n",
    "\n",
    "https://docs.gdax.com/?python#market-data"
   ]
  },
  {
   "cell_type": "markdown",
   "metadata": {},
   "source": [
    "https://docs.gdax.com/?python#get-historic-rates\n",
    "\n",
    "200 'candles' per request. open high low volume.\n",
    "\n",
    "24 hour data:\n",
    "\n",
    "GET /products/<product-id>/stats"
   ]
  },
  {
   "cell_type": "markdown",
   "metadata": {},
   "source": [
    "websocket feed. rate limit 1 per 4 seconds.\n",
    "\n",
    "wss://ws-feed.gdax.com"
   ]
  },
  {
   "cell_type": "markdown",
   "metadata": {},
   "source": [
    "## working with gdax-python api and gdax public marketplace data.\n",
    "\n",
    "### viewing products from gdax"
   ]
  },
  {
   "cell_type": "code",
   "execution_count": 1,
   "metadata": {},
   "outputs": [],
   "source": [
    "import gdax"
   ]
  },
  {
   "cell_type": "code",
   "execution_count": 6,
   "metadata": {},
   "outputs": [],
   "source": [
    "public_client = gdax.PublicClient()"
   ]
  },
  {
   "cell_type": "code",
   "execution_count": null,
   "metadata": {},
   "outputs": [],
   "source": [
    "products = public_client.get_products()"
   ]
  },
  {
   "cell_type": "markdown",
   "metadata": {},
   "source": [
    "gdax products appear to be limited to the same coins as coinbase. \n",
    "\n",
    "They include pricing in british pound and euro.\n",
    "\n",
    "We want to know only USD products."
   ]
  },
  {
   "cell_type": "code",
   "execution_count": 146,
   "metadata": {},
   "outputs": [],
   "source": [
    "import re"
   ]
  },
  {
   "cell_type": "code",
   "execution_count": 147,
   "metadata": {},
   "outputs": [
    {
     "data": {
      "text/plain": [
       "[{'base_currency': 'BCH',\n",
       "  'base_max_size': '250',\n",
       "  'base_min_size': '0.0001',\n",
       "  'display_name': 'BCH/USD',\n",
       "  'id': 'BCH-USD',\n",
       "  'margin_enabled': False,\n",
       "  'quote_currency': 'USD',\n",
       "  'quote_increment': '0.01',\n",
       "  'status': 'online',\n",
       "  'status_message': None},\n",
       " {'base_currency': 'BCH',\n",
       "  'base_max_size': '250',\n",
       "  'base_min_size': '0.0001',\n",
       "  'display_name': 'BCH/BTC',\n",
       "  'id': 'BCH-BTC',\n",
       "  'margin_enabled': False,\n",
       "  'quote_currency': 'BTC',\n",
       "  'quote_increment': '0.00001',\n",
       "  'status': 'online',\n",
       "  'status_message': None}]"
      ]
     },
     "metadata": {},
     "output_type": "display_data"
    }
   ],
   "source": [
    "GU = re.compile('EUR|GBP')\n",
    "products = [p for p in products if not GU.search(p['id'])]\n",
    "display(products[0:2])"
   ]
  },
  {
   "cell_type": "markdown",
   "metadata": {},
   "source": [
    "We see that there are both Coin-USD and Coin-Coin producst with some info on (probably) minimum and maximum allowable order size?\n",
    "\n",
    "Products are one way.\n",
    "\n",
    "There is BCH-USD, but not USD-BCH."
   ]
  },
  {
   "cell_type": "markdown",
   "metadata": {},
   "source": [
    "### Get current ticker containing ask and bid."
   ]
  },
  {
   "cell_type": "code",
   "execution_count": 54,
   "metadata": {},
   "outputs": [
    {
     "data": {
      "text/plain": [
       "{'ask': '835.25',\n",
       " 'bid': '835.24',\n",
       " 'price': '835.24000000',\n",
       " 'size': '0.00179589',\n",
       " 'time': '2017-12-21T08:47:10.932000Z',\n",
       " 'trade_id': 22769836,\n",
       " 'volume': '221867.97204692'}"
      ]
     },
     "execution_count": 54,
     "metadata": {},
     "output_type": "execute_result"
    }
   ],
   "source": [
    "public_client.get_product_ticker(product_id='ETH-USD')"
   ]
  },
  {
   "cell_type": "markdown",
   "metadata": {},
   "source": [
    "**TODO: understand the order side.**\n",
    "\n",
    "https://docs.gdax.com/#get-product-ticker\n",
    "\n",
    "    SIDE\n",
    "\n",
    "    The trade side indicates the maker order side. The maker order is the order that was open on the order book. buy side indicates a down-tick because the maker was a buy order and their order was removed. Conversely, sell side indicates an up-tick.\n"
   ]
  },
  {
   "cell_type": "code",
   "execution_count": 55,
   "metadata": {},
   "outputs": [
    {
     "data": {
      "text/plain": [
       "[{'price': '835.24000000',\n",
       "  'side': 'buy',\n",
       "  'size': '0.00179589',\n",
       "  'time': '2017-12-21T08:47:45.736Z',\n",
       "  'trade_id': 22769933},\n",
       " {'price': '835.24000000',\n",
       "  'side': 'buy',\n",
       "  'size': '0.00179589',\n",
       "  'time': '2017-12-21T08:47:45.485Z',\n",
       "  'trade_id': 22769932},\n",
       " {'price': '835.24000000',\n",
       "  'side': 'buy',\n",
       "  'size': '0.00179589',\n",
       "  'time': '2017-12-21T08:47:45.445Z',\n",
       "  'trade_id': 22769931},\n",
       " {'price': '835.24000000',\n",
       "  'side': 'buy',\n",
       "  'size': '0.00179589',\n",
       "  'time': '2017-12-21T08:47:45.352Z',\n",
       "  'trade_id': 22769930},\n",
       " {'price': '835.24000000',\n",
       "  'side': 'buy',\n",
       "  'size': '0.00179589',\n",
       "  'time': '2017-12-21T08:47:44.938Z',\n",
       "  'trade_id': 22769929},\n",
       " {'price': '835.24000000',\n",
       "  'side': 'buy',\n",
       "  'size': '0.00179589',\n",
       "  'time': '2017-12-21T08:47:44.419Z',\n",
       "  'trade_id': 22769928},\n",
       " {'price': '835.24000000',\n",
       "  'side': 'buy',\n",
       "  'size': '0.00179589',\n",
       "  'time': '2017-12-21T08:47:44.37Z',\n",
       "  'trade_id': 22769927},\n",
       " {'price': '835.24000000',\n",
       "  'side': 'buy',\n",
       "  'size': '0.47145985',\n",
       "  'time': '2017-12-21T08:47:44.138Z',\n",
       "  'trade_id': 22769926},\n",
       " {'price': '835.24000000',\n",
       "  'side': 'buy',\n",
       "  'size': '0.56184015',\n",
       "  'time': '2017-12-21T08:47:44.138Z',\n",
       "  'trade_id': 22769925},\n",
       " {'price': '835.24000000',\n",
       "  'side': 'buy',\n",
       "  'size': '0.00179589',\n",
       "  'time': '2017-12-21T08:47:44.12Z',\n",
       "  'trade_id': 22769924},\n",
       " {'price': '835.24000000',\n",
       "  'side': 'buy',\n",
       "  'size': '0.00179589',\n",
       "  'time': '2017-12-21T08:47:44.042Z',\n",
       "  'trade_id': 22769923},\n",
       " {'price': '835.24000000',\n",
       "  'side': 'buy',\n",
       "  'size': '0.00179589',\n",
       "  'time': '2017-12-21T08:47:43.998Z',\n",
       "  'trade_id': 22769922},\n",
       " {'price': '835.24000000',\n",
       "  'side': 'buy',\n",
       "  'size': '0.00179589',\n",
       "  'time': '2017-12-21T08:47:43.94Z',\n",
       "  'trade_id': 22769921},\n",
       " {'price': '835.24000000',\n",
       "  'side': 'buy',\n",
       "  'size': '0.00179589',\n",
       "  'time': '2017-12-21T08:47:43.788Z',\n",
       "  'trade_id': 22769920},\n",
       " {'price': '835.24000000',\n",
       "  'side': 'buy',\n",
       "  'size': '0.00179589',\n",
       "  'time': '2017-12-21T08:47:43.747Z',\n",
       "  'trade_id': 22769919},\n",
       " {'price': '835.24000000',\n",
       "  'side': 'buy',\n",
       "  'size': '0.00179589',\n",
       "  'time': '2017-12-21T08:47:43.621Z',\n",
       "  'trade_id': 22769918},\n",
       " {'price': '835.24000000',\n",
       "  'side': 'buy',\n",
       "  'size': '0.00179589',\n",
       "  'time': '2017-12-21T08:47:43.455Z',\n",
       "  'trade_id': 22769917},\n",
       " {'price': '835.24000000',\n",
       "  'side': 'buy',\n",
       "  'size': '0.00179589',\n",
       "  'time': '2017-12-21T08:47:43.352Z',\n",
       "  'trade_id': 22769916},\n",
       " {'price': '835.24000000',\n",
       "  'side': 'buy',\n",
       "  'size': '0.00179589',\n",
       "  'time': '2017-12-21T08:47:43.047Z',\n",
       "  'trade_id': 22769915},\n",
       " {'price': '835.24000000',\n",
       "  'side': 'buy',\n",
       "  'size': '0.00179589',\n",
       "  'time': '2017-12-21T08:47:42.943Z',\n",
       "  'trade_id': 22769914},\n",
       " {'price': '835.24000000',\n",
       "  'side': 'buy',\n",
       "  'size': '0.00179589',\n",
       "  'time': '2017-12-21T08:47:42.784Z',\n",
       "  'trade_id': 22769913},\n",
       " {'price': '835.24000000',\n",
       "  'side': 'buy',\n",
       "  'size': '0.00179589',\n",
       "  'time': '2017-12-21T08:47:42.435Z',\n",
       "  'trade_id': 22769912},\n",
       " {'price': '835.24000000',\n",
       "  'side': 'buy',\n",
       "  'size': '0.00179589',\n",
       "  'time': '2017-12-21T08:47:42.352Z',\n",
       "  'trade_id': 22769911},\n",
       " {'price': '835.24000000',\n",
       "  'side': 'buy',\n",
       "  'size': '0.00179589',\n",
       "  'time': '2017-12-21T08:47:42.078Z',\n",
       "  'trade_id': 22769910},\n",
       " {'price': '835.24000000',\n",
       "  'side': 'buy',\n",
       "  'size': '0.00179589',\n",
       "  'time': '2017-12-21T08:47:41.963Z',\n",
       "  'trade_id': 22769909},\n",
       " {'price': '835.24000000',\n",
       "  'side': 'buy',\n",
       "  'size': '0.00538767',\n",
       "  'time': '2017-12-21T08:47:41.802Z',\n",
       "  'trade_id': 22769908},\n",
       " {'price': '835.25000000',\n",
       "  'side': 'sell',\n",
       "  'size': '0.03783039',\n",
       "  'time': '2017-12-21T08:47:41.035Z',\n",
       "  'trade_id': 22769907},\n",
       " {'price': '835.24000000',\n",
       "  'side': 'buy',\n",
       "  'size': '0.00179589',\n",
       "  'time': '2017-12-21T08:47:38.126Z',\n",
       "  'trade_id': 22769906},\n",
       " {'price': '835.24000000',\n",
       "  'side': 'buy',\n",
       "  'size': '0.00538767',\n",
       "  'time': '2017-12-21T08:47:38.011Z',\n",
       "  'trade_id': 22769905},\n",
       " {'price': '835.24000000',\n",
       "  'side': 'buy',\n",
       "  'size': '0.00179589',\n",
       "  'time': '2017-12-21T08:47:37.923Z',\n",
       "  'trade_id': 22769904},\n",
       " {'price': '835.24000000',\n",
       "  'side': 'buy',\n",
       "  'size': '0.00179589',\n",
       "  'time': '2017-12-21T08:47:37.796Z',\n",
       "  'trade_id': 22769903},\n",
       " {'price': '835.25000000',\n",
       "  'side': 'sell',\n",
       "  'size': '0.01261013',\n",
       "  'time': '2017-12-21T08:47:37.356Z',\n",
       "  'trade_id': 22769902},\n",
       " {'price': '835.25000000',\n",
       "  'side': 'sell',\n",
       "  'size': '0.13822075',\n",
       "  'time': '2017-12-21T08:47:36.306Z',\n",
       "  'trade_id': 22769901},\n",
       " {'price': '835.24000000',\n",
       "  'side': 'buy',\n",
       "  'size': '0.00179589',\n",
       "  'time': '2017-12-21T08:47:34.43Z',\n",
       "  'trade_id': 22769900},\n",
       " {'price': '835.24000000',\n",
       "  'side': 'buy',\n",
       "  'size': '0.00179589',\n",
       "  'time': '2017-12-21T08:47:34.334Z',\n",
       "  'trade_id': 22769899},\n",
       " {'price': '835.24000000',\n",
       "  'side': 'buy',\n",
       "  'size': '0.00179589',\n",
       "  'time': '2017-12-21T08:47:34.096Z',\n",
       "  'trade_id': 22769898},\n",
       " {'price': '835.24000000',\n",
       "  'side': 'buy',\n",
       "  'size': '0.00179589',\n",
       "  'time': '2017-12-21T08:47:34.013Z',\n",
       "  'trade_id': 22769897},\n",
       " {'price': '835.24000000',\n",
       "  'side': 'buy',\n",
       "  'size': '0.00179589',\n",
       "  'time': '2017-12-21T08:47:33.839Z',\n",
       "  'trade_id': 22769896},\n",
       " {'price': '835.24000000',\n",
       "  'side': 'buy',\n",
       "  'size': '0.00538767',\n",
       "  'time': '2017-12-21T08:47:33.543Z',\n",
       "  'trade_id': 22769895},\n",
       " {'price': '835.24000000',\n",
       "  'side': 'buy',\n",
       "  'size': '0.00179589',\n",
       "  'time': '2017-12-21T08:47:33.426Z',\n",
       "  'trade_id': 22769894},\n",
       " {'price': '835.24000000',\n",
       "  'side': 'buy',\n",
       "  'size': '0.00179589',\n",
       "  'time': '2017-12-21T08:47:33.113Z',\n",
       "  'trade_id': 22769893},\n",
       " {'price': '835.24000000',\n",
       "  'side': 'buy',\n",
       "  'size': '0.00179589',\n",
       "  'time': '2017-12-21T08:47:33.04Z',\n",
       "  'trade_id': 22769892},\n",
       " {'price': '835.25000000',\n",
       "  'side': 'sell',\n",
       "  'size': '0.02161737',\n",
       "  'time': '2017-12-21T08:47:32.435Z',\n",
       "  'trade_id': 22769891},\n",
       " {'price': '835.25000000',\n",
       "  'side': 'sell',\n",
       "  'size': '0.35800931',\n",
       "  'time': '2017-12-21T08:47:32.413Z',\n",
       "  'trade_id': 22769890},\n",
       " {'price': '835.25000000',\n",
       "  'side': 'sell',\n",
       "  'size': '0.00587537',\n",
       "  'time': '2017-12-21T08:47:32.413Z',\n",
       "  'trade_id': 22769889},\n",
       " {'price': '835.24000000',\n",
       "  'side': 'buy',\n",
       "  'size': '0.02341881',\n",
       "  'time': '2017-12-21T08:47:28.633Z',\n",
       "  'trade_id': 22769888},\n",
       " {'price': '835.25000000',\n",
       "  'side': 'sell',\n",
       "  'size': '0.00179049',\n",
       "  'time': '2017-12-21T08:47:28.434Z',\n",
       "  'trade_id': 22769887},\n",
       " {'price': '835.25000000',\n",
       "  'side': 'sell',\n",
       "  'size': '0.00179049',\n",
       "  'time': '2017-12-21T08:47:28.265Z',\n",
       "  'trade_id': 22769886},\n",
       " {'price': '835.25000000',\n",
       "  'side': 'sell',\n",
       "  'size': '0.00179049',\n",
       "  'time': '2017-12-21T08:47:28.073Z',\n",
       "  'trade_id': 22769885},\n",
       " {'price': '835.25000000',\n",
       "  'side': 'sell',\n",
       "  'size': '0.00179049',\n",
       "  'time': '2017-12-21T08:47:27.926Z',\n",
       "  'trade_id': 22769884},\n",
       " {'price': '835.25000000',\n",
       "  'side': 'sell',\n",
       "  'size': '0.00537149',\n",
       "  'time': '2017-12-21T08:47:27.825Z',\n",
       "  'trade_id': 22769883},\n",
       " {'price': '835.25000000',\n",
       "  'side': 'sell',\n",
       "  'size': '0.00179049',\n",
       "  'time': '2017-12-21T08:47:27.751Z',\n",
       "  'trade_id': 22769882},\n",
       " {'price': '835.25000000',\n",
       "  'side': 'sell',\n",
       "  'size': '7.01450000',\n",
       "  'time': '2017-12-21T08:47:27.706Z',\n",
       "  'trade_id': 22769881},\n",
       " {'price': '835.25000000',\n",
       "  'side': 'sell',\n",
       "  'size': '0.00179049',\n",
       "  'time': '2017-12-21T08:47:27.648Z',\n",
       "  'trade_id': 22769880},\n",
       " {'price': '835.25000000',\n",
       "  'side': 'sell',\n",
       "  'size': '0.00179049',\n",
       "  'time': '2017-12-21T08:47:27.612Z',\n",
       "  'trade_id': 22769879},\n",
       " {'price': '835.25000000',\n",
       "  'side': 'sell',\n",
       "  'size': '0.00179049',\n",
       "  'time': '2017-12-21T08:47:27.535Z',\n",
       "  'trade_id': 22769878},\n",
       " {'price': '835.25000000',\n",
       "  'side': 'sell',\n",
       "  'size': '0.00179049',\n",
       "  'time': '2017-12-21T08:47:27.443Z',\n",
       "  'trade_id': 22769877},\n",
       " {'price': '835.25000000',\n",
       "  'side': 'sell',\n",
       "  'size': '0.00179049',\n",
       "  'time': '2017-12-21T08:47:27.043Z',\n",
       "  'trade_id': 22769876},\n",
       " {'price': '835.25000000',\n",
       "  'side': 'sell',\n",
       "  'size': '3.30774429',\n",
       "  'time': '2017-12-21T08:47:26.284Z',\n",
       "  'trade_id': 22769875},\n",
       " {'price': '835.25000000',\n",
       "  'side': 'sell',\n",
       "  'size': '2.79715564',\n",
       "  'time': '2017-12-21T08:47:26.284Z',\n",
       "  'trade_id': 22769874},\n",
       " {'price': '835.24000000',\n",
       "  'side': 'buy',\n",
       "  'size': '0.00179589',\n",
       "  'time': '2017-12-21T08:47:24.983Z',\n",
       "  'trade_id': 22769873},\n",
       " {'price': '835.24000000',\n",
       "  'side': 'buy',\n",
       "  'size': '0.00179589',\n",
       "  'time': '2017-12-21T08:47:24.924Z',\n",
       "  'trade_id': 22769872},\n",
       " {'price': '835.24000000',\n",
       "  'side': 'buy',\n",
       "  'size': '0.00179589',\n",
       "  'time': '2017-12-21T08:47:24.823Z',\n",
       "  'trade_id': 22769871},\n",
       " {'price': '835.24000000',\n",
       "  'side': 'buy',\n",
       "  'size': '0.00179589',\n",
       "  'time': '2017-12-21T08:47:24.755Z',\n",
       "  'trade_id': 22769870},\n",
       " {'price': '835.24000000',\n",
       "  'side': 'buy',\n",
       "  'size': '0.00179589',\n",
       "  'time': '2017-12-21T08:47:24.711Z',\n",
       "  'trade_id': 22769869},\n",
       " {'price': '835.24000000',\n",
       "  'side': 'buy',\n",
       "  'size': '0.00179589',\n",
       "  'time': '2017-12-21T08:47:24.639Z',\n",
       "  'trade_id': 22769868},\n",
       " {'price': '835.24000000',\n",
       "  'side': 'buy',\n",
       "  'size': '0.00538767',\n",
       "  'time': '2017-12-21T08:47:24.53Z',\n",
       "  'trade_id': 22769867},\n",
       " {'price': '835.24000000',\n",
       "  'side': 'buy',\n",
       "  'size': '0.00179589',\n",
       "  'time': '2017-12-21T08:47:24.437Z',\n",
       "  'trade_id': 22769866},\n",
       " {'price': '835.24000000',\n",
       "  'side': 'buy',\n",
       "  'size': '0.00179589',\n",
       "  'time': '2017-12-21T08:47:24.32Z',\n",
       "  'trade_id': 22769865},\n",
       " {'price': '835.24000000',\n",
       "  'side': 'buy',\n",
       "  'size': '0.00179589',\n",
       "  'time': '2017-12-21T08:47:24.067Z',\n",
       "  'trade_id': 22769864},\n",
       " {'price': '835.24000000',\n",
       "  'side': 'buy',\n",
       "  'size': '0.00179589',\n",
       "  'time': '2017-12-21T08:47:24.037Z',\n",
       "  'trade_id': 22769863},\n",
       " {'price': '835.24000000',\n",
       "  'side': 'buy',\n",
       "  'size': '0.00179589',\n",
       "  'time': '2017-12-21T08:47:23.942Z',\n",
       "  'trade_id': 22769862},\n",
       " {'price': '835.24000000',\n",
       "  'side': 'buy',\n",
       "  'size': '0.00179589',\n",
       "  'time': '2017-12-21T08:47:23.826Z',\n",
       "  'trade_id': 22769861},\n",
       " {'price': '835.24000000',\n",
       "  'side': 'buy',\n",
       "  'size': '0.00179589',\n",
       "  'time': '2017-12-21T08:47:23.749Z',\n",
       "  'trade_id': 22769860},\n",
       " {'price': '835.24000000',\n",
       "  'side': 'buy',\n",
       "  'size': '0.00179589',\n",
       "  'time': '2017-12-21T08:47:23.661Z',\n",
       "  'trade_id': 22769859},\n",
       " {'price': '835.24000000',\n",
       "  'side': 'buy',\n",
       "  'size': '0.00179589',\n",
       "  'time': '2017-12-21T08:47:23.527Z',\n",
       "  'trade_id': 22769858},\n",
       " {'price': '835.24000000',\n",
       "  'side': 'buy',\n",
       "  'size': '0.00179589',\n",
       "  'time': '2017-12-21T08:47:23.323Z',\n",
       "  'trade_id': 22769857},\n",
       " {'price': '835.24000000',\n",
       "  'side': 'buy',\n",
       "  'size': '0.00179589',\n",
       "  'time': '2017-12-21T08:47:23.041Z',\n",
       "  'trade_id': 22769856},\n",
       " {'price': '835.24000000',\n",
       "  'side': 'buy',\n",
       "  'size': '0.00179589',\n",
       "  'time': '2017-12-21T08:47:22.993Z',\n",
       "  'trade_id': 22769855},\n",
       " {'price': '835.24000000',\n",
       "  'side': 'buy',\n",
       "  'size': '0.00179589',\n",
       "  'time': '2017-12-21T08:47:22.938Z',\n",
       "  'trade_id': 22769854},\n",
       " {'price': '835.25000000',\n",
       "  'side': 'sell',\n",
       "  'size': '0.04323473',\n",
       "  'time': '2017-12-21T08:47:22.694Z',\n",
       "  'trade_id': 22769853},\n",
       " {'price': '835.25000000',\n",
       "  'side': 'sell',\n",
       "  'size': '0.00179049',\n",
       "  'time': '2017-12-21T08:47:22.606Z',\n",
       "  'trade_id': 22769852},\n",
       " {'price': '835.25000000',\n",
       "  'side': 'sell',\n",
       "  'size': '1.57856926',\n",
       "  'time': '2017-12-21T08:47:22.265Z',\n",
       "  'trade_id': 22769851},\n",
       " {'price': '835.24000000',\n",
       "  'side': 'buy',\n",
       "  'size': '0.00179589',\n",
       "  'time': '2017-12-21T08:47:18.466Z',\n",
       "  'trade_id': 22769850},\n",
       " {'price': '835.24000000',\n",
       "  'side': 'buy',\n",
       "  'size': '0.00179589',\n",
       "  'time': '2017-12-21T08:47:18.273Z',\n",
       "  'trade_id': 22769849},\n",
       " {'price': '835.24000000',\n",
       "  'side': 'buy',\n",
       "  'size': '0.00538767',\n",
       "  'time': '2017-12-21T08:47:18.071Z',\n",
       "  'trade_id': 22769848},\n",
       " {'price': '835.24000000',\n",
       "  'side': 'buy',\n",
       "  'size': '0.00179589',\n",
       "  'time': '2017-12-21T08:47:17.964Z',\n",
       "  'trade_id': 22769847},\n",
       " {'price': '835.24000000',\n",
       "  'side': 'buy',\n",
       "  'size': '0.00179589',\n",
       "  'time': '2017-12-21T08:47:17.871Z',\n",
       "  'trade_id': 22769846},\n",
       " {'price': '835.24000000',\n",
       "  'side': 'buy',\n",
       "  'size': '0.00179589',\n",
       "  'time': '2017-12-21T08:47:17.832Z',\n",
       "  'trade_id': 22769845},\n",
       " {'price': '835.24000000',\n",
       "  'side': 'buy',\n",
       "  'size': '0.00179589',\n",
       "  'time': '2017-12-21T08:47:17.782Z',\n",
       "  'trade_id': 22769844},\n",
       " {'price': '835.25000000',\n",
       "  'side': 'sell',\n",
       "  'size': '0.01621303',\n",
       "  'time': '2017-12-21T08:47:17.443Z',\n",
       "  'trade_id': 22769843},\n",
       " {'price': '835.24000000',\n",
       "  'side': 'buy',\n",
       "  'size': '0.00538767',\n",
       "  'time': '2017-12-21T08:47:11.778Z',\n",
       "  'trade_id': 22769842},\n",
       " {'price': '835.24000000',\n",
       "  'side': 'buy',\n",
       "  'size': '0.00179589',\n",
       "  'time': '2017-12-21T08:47:11.725Z',\n",
       "  'trade_id': 22769841},\n",
       " {'price': '835.24000000',\n",
       "  'side': 'buy',\n",
       "  'size': '0.00179589',\n",
       "  'time': '2017-12-21T08:47:11.647Z',\n",
       "  'trade_id': 22769840},\n",
       " {'price': '835.24000000',\n",
       "  'side': 'buy',\n",
       "  'size': '0.00179589',\n",
       "  'time': '2017-12-21T08:47:11.597Z',\n",
       "  'trade_id': 22769839},\n",
       " {'price': '835.24000000',\n",
       "  'side': 'buy',\n",
       "  'size': '0.00179589',\n",
       "  'time': '2017-12-21T08:47:11.544Z',\n",
       "  'trade_id': 22769838},\n",
       " {'price': '835.24000000',\n",
       "  'side': 'buy',\n",
       "  'size': '0.00179589',\n",
       "  'time': '2017-12-21T08:47:11.494Z',\n",
       "  'trade_id': 22769837},\n",
       " {'price': '835.24000000',\n",
       "  'side': 'buy',\n",
       "  'size': '0.00179589',\n",
       "  'time': '2017-12-21T08:47:10.932Z',\n",
       "  'trade_id': 22769836},\n",
       " {'price': '835.24000000',\n",
       "  'side': 'buy',\n",
       "  'size': '0.00179589',\n",
       "  'time': '2017-12-21T08:47:10.867Z',\n",
       "  'trade_id': 22769835},\n",
       " {'price': '835.24000000',\n",
       "  'side': 'buy',\n",
       "  'size': '0.00179589',\n",
       "  'time': '2017-12-21T08:47:10.767Z',\n",
       "  'trade_id': 22769834}]"
      ]
     },
     "execution_count": 55,
     "metadata": {},
     "output_type": "execute_result"
    }
   ],
   "source": [
    "public_client.get_product_trades(product_id='ETH-USD')"
   ]
  },
  {
   "cell_type": "markdown",
   "metadata": {},
   "source": [
    "The ticker.\n",
    "\n",
    "    {'ask': '835.25',\n",
    "     'bid': '835.24',\n",
    "     'price': '835.24000000',\n",
    "     'size': '0.00179589',\n",
    "     'time': '2017-12-21T08:47:10.932000Z',\n",
    "     'trade_id': 22769836,\n",
    "     'volume': '221867.97204692'}"
   ]
  },
  {
   "cell_type": "markdown",
   "metadata": {},
   "source": [
    "Resulted in a trade in the 'recent history' soon afterwards.\n",
    "\n",
    "     {'price': '835.24000000',\n",
    "      'side': 'buy',\n",
    "      'size': '0.00179589',\n",
    "      'time': '2017-12-21T08:47:10.932Z',\n",
    "      'trade_id': 22769836}"
   ]
  },
  {
   "cell_type": "markdown",
   "metadata": {},
   "source": [
    "TODO: confirm this interpretation.\n",
    "\n",
    "Someone wanted to buy it at 835.24, someone wanted to sell it at 835.25. The price of the trade was 835.24. So it was a buy at 835.24. The order maker sold at 835.24 allowing someone to buy at 835.24."
   ]
  },
  {
   "cell_type": "markdown",
   "metadata": {},
   "source": [
    "### get historic data and understand granularity and converting timestamps.\n",
    "\n",
    "Note the bucket size may be different on each call.\n",
    "\n",
    "https://docs.gdax.com/#get-historic-rates\n",
    "    \n",
    "Each bucket is an array of the following information:\n",
    "\n",
    "- time : bucket start time (note bucket goes to next time\n",
    "- low : lowest price during the bucket interval\n",
    "- high : highest price during the bucket interval\n",
    "- open : opening price (first trade) in the bucket interval\n",
    "- close : closing price (last trade) in the bucket interval\n",
    "- volume : volume of trading activity during the bucket interval"
   ]
  },
  {
   "cell_type": "code",
   "execution_count": 103,
   "metadata": {},
   "outputs": [],
   "source": [
    "eth_usd_hist = public_client.get_product_historic_rates('ETH-USD')"
   ]
  },
  {
   "cell_type": "code",
   "execution_count": 104,
   "metadata": {},
   "outputs": [
    {
     "data": {
      "text/plain": [
       "311"
      ]
     },
     "execution_count": 104,
     "metadata": {},
     "output_type": "execute_result"
    }
   ],
   "source": [
    "len(eth_usd_hist)"
   ]
  },
  {
   "cell_type": "code",
   "execution_count": 69,
   "metadata": {},
   "outputs": [
    {
     "data": {
      "text/plain": [
       "[[1513847220, 837.97, 837.98, 837.97, 837.98, 25.93066695],\n",
       " [1513847160, 837.97, 837.98, 837.98, 837.97, 30.062845900000003],\n",
       " [1513847100, 835.99, 837.98, 836, 837.97, 267.8209014899999]]"
      ]
     },
     "execution_count": 69,
     "metadata": {},
     "output_type": "execute_result"
    }
   ],
   "source": [
    "eth_usd_hist[0:3]"
   ]
  },
  {
   "cell_type": "code",
   "execution_count": null,
   "metadata": {},
   "outputs": [],
   "source": [
    "public_client.get_product_historic_rates"
   ]
  },
  {
   "cell_type": "code",
   "execution_count": 74,
   "metadata": {},
   "outputs": [],
   "source": [
    "import datetime"
   ]
  },
  {
   "cell_type": "code",
   "execution_count": 93,
   "metadata": {},
   "outputs": [
    {
     "data": {
      "text/plain": [
       "datetime.datetime(2017, 12, 21, 1, 6)"
      ]
     },
     "execution_count": 93,
     "metadata": {},
     "output_type": "execute_result"
    }
   ],
   "source": [
    "t = datetime.datetime.fromtimestamp(int(\"1513847160\"))\n",
    "t"
   ]
  },
  {
   "cell_type": "markdown",
   "metadata": {},
   "source": [
    "These are one minute time intervals:\n",
    "\n",
    "    1513847100 : 2017-12-21 1:05\n",
    "    1513847220 : 2017-12-21 1:07"
   ]
  },
  {
   "cell_type": "code",
   "execution_count": 87,
   "metadata": {},
   "outputs": [
    {
     "data": {
      "text/plain": [
       "datetime.time(1, 6, 10)"
      ]
     },
     "execution_count": 87,
     "metadata": {},
     "output_type": "execute_result"
    }
   ],
   "source": [
    "t.date()\n",
    "t.time()"
   ]
  },
  {
   "cell_type": "code",
   "execution_count": 114,
   "metadata": {},
   "outputs": [
    {
     "data": {
      "text/plain": [
       "'2017-12-20T20:20:00'"
      ]
     },
     "execution_count": 114,
     "metadata": {},
     "output_type": "execute_result"
    }
   ],
   "source": [
    "datetime.datetime.fromtimestamp(eth_usd_hist[-1][0]).isoformat()"
   ]
  },
  {
   "cell_type": "code",
   "execution_count": 113,
   "metadata": {},
   "outputs": [
    {
     "data": {
      "text/plain": [
       "'2017-12-21T01:30:00'"
      ]
     },
     "execution_count": 113,
     "metadata": {},
     "output_type": "execute_result"
    }
   ],
   "source": [
    "datetime.datetime.fromtimestamp(eth_usd_hist[0][0]).isoformat()"
   ]
  },
  {
   "cell_type": "markdown",
   "metadata": {},
   "source": [
    "This history spans from 10:10 pm yesterday to 1:30 am today. Approx. 5 hours."
   ]
  },
  {
   "cell_type": "markdown",
   "metadata": {},
   "source": [
    "**To get particular time every X minutes, use a combination of start stop and granularity.**\n",
    "\n",
    "granularity is bucket size in seconds.\n",
    "\n",
    "No more than 200 intervals are accepted."
   ]
  },
  {
   "cell_type": "code",
   "execution_count": 400,
   "metadata": {},
   "outputs": [],
   "source": [
    "# 12-18 from 0 to 24 in 1 hour (3600 second) chunks.\n",
    "\n",
    "# PST\n",
    "start = '2017-12-13T08:00:00-8:00'\n",
    "end = '2017-12-17T02:00:00-08:00'\n",
    "granularity = 86400 # seconds per bucket, i.e. 1 hour intervals\n",
    "#btc_usd_hist = public_client.get_product_historic_rates('BTC-USD', end=end, granularity=granularity)\n",
    "btc_usd_hist = public_client.get_product_historic_rates('BTC-USD', end=end, granularity=86400)"
   ]
  },
  {
   "cell_type": "markdown",
   "metadata": {},
   "source": [
    "This is seeming kind of messed up for doing anything specific.\n",
    "\n",
    "Getting different return types depending on whether I include end and start or granularity."
   ]
  },
  {
   "cell_type": "code",
   "execution_count": 401,
   "metadata": {},
   "outputs": [
    {
     "name": "stdout",
     "output_type": "stream",
     "text": [
      "3\n",
      "2017-12-20T16:00:00\n",
      "2017-12-18T16:00:00\n",
      "2017-12-17T16:00:00\n"
     ]
    }
   ],
   "source": [
    "print(len(btc_usd_hist))\n",
    "for h in btc_usd_hist:\n",
    "    print(datetime.datetime.fromtimestamp(h[0]).isoformat())"
   ]
  },
  {
   "cell_type": "code",
   "execution_count": 390,
   "metadata": {},
   "outputs": [
    {
     "data": {
      "text/plain": [
       "[[1513814400, 16851, 17158.34, 16852, 16949.99, 660.1336242899963],\n",
       " [1513641600, 17763.48, 19099, 19039.01, 18225.47, 11347.418107781108],\n",
       " [1513555200, 18425, 19367.5, 18545.02, 19039.01, 17253.83669920245]]"
      ]
     },
     "execution_count": 390,
     "metadata": {},
     "output_type": "execute_result"
    }
   ],
   "source": [
    "public_client.get_product_historic_rates"
   ]
  },
  {
   "cell_type": "markdown",
   "metadata": {},
   "source": [
    "### get historic data: daily stat\n",
    "Probably the last 24 hours through 'now'.\n",
    "\n",
    "No option to select other days."
   ]
  },
  {
   "cell_type": "code",
   "execution_count": 71,
   "metadata": {},
   "outputs": [
    {
     "data": {
      "text/plain": [
       "{'high': '844.27000000',\n",
       " 'last': '838.09000000',\n",
       " 'low': '775.90000000',\n",
       " 'open': '800.04000000',\n",
       " 'volume': '220278.79144908',\n",
       " 'volume_30day': '9535008.28345899'}"
      ]
     },
     "execution_count": 71,
     "metadata": {},
     "output_type": "execute_result"
    }
   ],
   "source": [
    "public_client.get_product_24hr_stats('ETH-USD')"
   ]
  }
 ],
 "metadata": {
  "anaconda-cloud": {},
  "kernelspec": {
   "display_name": "Python [Root]",
   "language": "python",
   "name": "Python [Root]"
  },
  "language_info": {
   "codemirror_mode": {
    "name": "ipython",
    "version": 3
   },
   "file_extension": ".py",
   "mimetype": "text/x-python",
   "name": "python",
   "nbconvert_exporter": "python",
   "pygments_lexer": "ipython3",
   "version": "3.5.3"
  },
  "toc": {
   "toc_cell": false,
   "toc_number_sections": true,
   "toc_threshold": 6,
   "toc_window_display": false
  }
 },
 "nbformat": 4,
 "nbformat_minor": 2
}
